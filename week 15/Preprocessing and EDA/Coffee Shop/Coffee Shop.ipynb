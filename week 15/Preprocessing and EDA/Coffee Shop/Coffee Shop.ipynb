{
 "cells": [
  {
   "cell_type": "code",
   "execution_count": 1,
   "id": "ff56970d-b816-480a-8117-2dc65e931272",
   "metadata": {},
   "outputs": [],
   "source": [
    "#importing librarys\n",
    "import pandas as pd\n",
    "import numpy as np\n",
    "import matplotlib.pyplot as plt\n",
    "import seaborn as sns"
   ]
  },
  {
   "cell_type": "code",
   "execution_count": 2,
   "id": "36259e18-6490-459b-a8c3-0801fde0f836",
   "metadata": {},
   "outputs": [],
   "source": [
    "data=pd.read_csv('Project.csv')"
   ]
  },
  {
   "cell_type": "code",
   "execution_count": 3,
   "id": "509209dd-bf0b-44f9-9974-d77e12383291",
   "metadata": {},
   "outputs": [
    {
     "data": {
      "text/html": [
       "<div>\n",
       "<style scoped>\n",
       "    .dataframe tbody tr th:only-of-type {\n",
       "        vertical-align: middle;\n",
       "    }\n",
       "\n",
       "    .dataframe tbody tr th {\n",
       "        vertical-align: top;\n",
       "    }\n",
       "\n",
       "    .dataframe thead th {\n",
       "        text-align: right;\n",
       "    }\n",
       "</style>\n",
       "<table border=\"1\" class=\"dataframe\">\n",
       "  <thead>\n",
       "    <tr style=\"text-align: right;\">\n",
       "      <th></th>\n",
       "      <th>transaction_id</th>\n",
       "      <th>transaction_date</th>\n",
       "      <th>transaction_time</th>\n",
       "      <th>store_id</th>\n",
       "      <th>store_location</th>\n",
       "      <th>product_id</th>\n",
       "      <th>transaction_qty</th>\n",
       "      <th>unit_price</th>\n",
       "      <th>Total_Bill</th>\n",
       "      <th>product_category</th>\n",
       "      <th>product_type</th>\n",
       "      <th>product_detail</th>\n",
       "      <th>Size</th>\n",
       "      <th>Month Name</th>\n",
       "      <th>Day Name</th>\n",
       "      <th>Hour</th>\n",
       "      <th>Month</th>\n",
       "      <th>Day of Week</th>\n",
       "    </tr>\n",
       "  </thead>\n",
       "  <tbody>\n",
       "    <tr>\n",
       "      <th>0</th>\n",
       "      <td>114301</td>\n",
       "      <td>01-06-2023</td>\n",
       "      <td>11:33:29</td>\n",
       "      <td>3</td>\n",
       "      <td>Astoria</td>\n",
       "      <td>45</td>\n",
       "      <td>1</td>\n",
       "      <td>3.0</td>\n",
       "      <td>3.0</td>\n",
       "      <td>Tea</td>\n",
       "      <td>Brewed herbal tea</td>\n",
       "      <td>Peppermint</td>\n",
       "      <td>Large</td>\n",
       "      <td>June</td>\n",
       "      <td>Thursday</td>\n",
       "      <td>11</td>\n",
       "      <td>6</td>\n",
       "      <td>3</td>\n",
       "    </tr>\n",
       "    <tr>\n",
       "      <th>1</th>\n",
       "      <td>115405</td>\n",
       "      <td>02-06-2023</td>\n",
       "      <td>11:18:24</td>\n",
       "      <td>3</td>\n",
       "      <td>Astoria</td>\n",
       "      <td>45</td>\n",
       "      <td>1</td>\n",
       "      <td>3.0</td>\n",
       "      <td>3.0</td>\n",
       "      <td>Tea</td>\n",
       "      <td>Brewed herbal tea</td>\n",
       "      <td>Peppermint</td>\n",
       "      <td>Large</td>\n",
       "      <td>June</td>\n",
       "      <td>Friday</td>\n",
       "      <td>11</td>\n",
       "      <td>6</td>\n",
       "      <td>4</td>\n",
       "    </tr>\n",
       "    <tr>\n",
       "      <th>2</th>\n",
       "      <td>115478</td>\n",
       "      <td>02-06-2023</td>\n",
       "      <td>12:02:45</td>\n",
       "      <td>3</td>\n",
       "      <td>Astoria</td>\n",
       "      <td>45</td>\n",
       "      <td>1</td>\n",
       "      <td>3.0</td>\n",
       "      <td>3.0</td>\n",
       "      <td>Tea</td>\n",
       "      <td>Brewed herbal tea</td>\n",
       "      <td>Peppermint</td>\n",
       "      <td>Large</td>\n",
       "      <td>June</td>\n",
       "      <td>Friday</td>\n",
       "      <td>12</td>\n",
       "      <td>6</td>\n",
       "      <td>4</td>\n",
       "    </tr>\n",
       "    <tr>\n",
       "      <th>3</th>\n",
       "      <td>116288</td>\n",
       "      <td>02-06-2023</td>\n",
       "      <td>19:39:47</td>\n",
       "      <td>3</td>\n",
       "      <td>Astoria</td>\n",
       "      <td>45</td>\n",
       "      <td>1</td>\n",
       "      <td>3.0</td>\n",
       "      <td>3.0</td>\n",
       "      <td>Tea</td>\n",
       "      <td>Brewed herbal tea</td>\n",
       "      <td>Peppermint</td>\n",
       "      <td>Large</td>\n",
       "      <td>June</td>\n",
       "      <td>Friday</td>\n",
       "      <td>19</td>\n",
       "      <td>6</td>\n",
       "      <td>4</td>\n",
       "    </tr>\n",
       "    <tr>\n",
       "      <th>4</th>\n",
       "      <td>116714</td>\n",
       "      <td>03-06-2023</td>\n",
       "      <td>12:24:57</td>\n",
       "      <td>3</td>\n",
       "      <td>Astoria</td>\n",
       "      <td>45</td>\n",
       "      <td>1</td>\n",
       "      <td>3.0</td>\n",
       "      <td>3.0</td>\n",
       "      <td>Tea</td>\n",
       "      <td>Brewed herbal tea</td>\n",
       "      <td>Peppermint</td>\n",
       "      <td>Large</td>\n",
       "      <td>June</td>\n",
       "      <td>Saturday</td>\n",
       "      <td>12</td>\n",
       "      <td>6</td>\n",
       "      <td>5</td>\n",
       "    </tr>\n",
       "  </tbody>\n",
       "</table>\n",
       "</div>"
      ],
      "text/plain": [
       "   transaction_id transaction_date transaction_time  store_id store_location  \\\n",
       "0          114301       01-06-2023         11:33:29         3        Astoria   \n",
       "1          115405       02-06-2023         11:18:24         3        Astoria   \n",
       "2          115478       02-06-2023         12:02:45         3        Astoria   \n",
       "3          116288       02-06-2023         19:39:47         3        Astoria   \n",
       "4          116714       03-06-2023         12:24:57         3        Astoria   \n",
       "\n",
       "   product_id  transaction_qty  unit_price  Total_Bill product_category  \\\n",
       "0          45                1         3.0         3.0              Tea   \n",
       "1          45                1         3.0         3.0              Tea   \n",
       "2          45                1         3.0         3.0              Tea   \n",
       "3          45                1         3.0         3.0              Tea   \n",
       "4          45                1         3.0         3.0              Tea   \n",
       "\n",
       "        product_type product_detail   Size Month Name  Day Name  Hour  Month  \\\n",
       "0  Brewed herbal tea     Peppermint  Large       June  Thursday    11      6   \n",
       "1  Brewed herbal tea     Peppermint  Large       June    Friday    11      6   \n",
       "2  Brewed herbal tea     Peppermint  Large       June    Friday    12      6   \n",
       "3  Brewed herbal tea     Peppermint  Large       June    Friday    19      6   \n",
       "4  Brewed herbal tea     Peppermint  Large       June  Saturday    12      6   \n",
       "\n",
       "   Day of Week  \n",
       "0            3  \n",
       "1            4  \n",
       "2            4  \n",
       "3            4  \n",
       "4            5  "
      ]
     },
     "execution_count": 3,
     "metadata": {},
     "output_type": "execute_result"
    }
   ],
   "source": [
    "data.head()"
   ]
  },
  {
   "cell_type": "code",
   "execution_count": 4,
   "id": "e2dae633-3839-46b5-9a0b-a5c4a9a23280",
   "metadata": {},
   "outputs": [],
   "source": [
    "store_name=data['store_location'].unique()"
   ]
  },
  {
   "cell_type": "code",
   "execution_count": 5,
   "id": "9c65a779-a7a9-4aaf-9e5a-4883439e1565",
   "metadata": {},
   "outputs": [
    {
     "data": {
      "text/plain": [
       "array(['Astoria', 'Lower Manhattan', \"Hell's Kitchen\"], dtype=object)"
      ]
     },
     "execution_count": 5,
     "metadata": {},
     "output_type": "execute_result"
    }
   ],
   "source": [
    "store_name"
   ]
  },
  {
   "cell_type": "code",
   "execution_count": 6,
   "id": "582f8dbb-1dc3-473c-a814-6bc59d6e195b",
   "metadata": {},
   "outputs": [],
   "source": [
    "store_val=data['store_location'].value_counts().values"
   ]
  },
  {
   "cell_type": "code",
   "execution_count": 7,
   "id": "2b0a8871-8fca-4aad-9bea-d3d9c67ee054",
   "metadata": {},
   "outputs": [
    {
     "data": {
      "text/plain": [
       "array([50735, 50599, 47782], dtype=int64)"
      ]
     },
     "execution_count": 7,
     "metadata": {},
     "output_type": "execute_result"
    }
   ],
   "source": [
    "store_val"
   ]
  },
  {
   "cell_type": "code",
   "execution_count": 8,
   "id": "87df27ff-43ff-4c5a-876c-dcb3276f9bd9",
   "metadata": {},
   "outputs": [
    {
     "data": {
      "text/plain": [
       "([<matplotlib.patches.Wedge at 0x20fc49fb2f0>,\n",
       "  <matplotlib.patches.Wedge at 0x20fc49fb3b0>,\n",
       "  <matplotlib.patches.Wedge at 0x20fc4a32ed0>],\n",
       " [Text(0.5292066988956711, 0.9643341069587588, 'Astoria'),\n",
       "  Text(-1.0978718507686893, -0.0683915147495132, 'Lower Manhattan'),\n",
       "  Text(0.5881395490824777, -0.9295654204008774, \"Hell's Kitchen\")],\n",
       " [Text(0.2886581993976387, 0.5260004219775047, '34.0%'),\n",
       "  Text(-0.5988391913283759, -0.03730446259064356, '33.9%'),\n",
       "  Text(0.32080339040862416, -0.507035683855024, '32.0%')])"
      ]
     },
     "execution_count": 8,
     "metadata": {},
     "output_type": "execute_result"
    },
    {
     "data": {
      "image/png": "[encoded data removed]",
      "text/plain": [
       "<Figure size 640x480 with 1 Axes>"
      ]
     },
     "metadata": {},
     "output_type": "display_data"
    }
   ],
   "source": [
    "plt.pie(store_val,labels=store_name,autopct='%1.01f%%')"
   ]
  },
  {
   "cell_type": "code",
   "execution_count": 9,
   "id": "1a1e4c78-f2af-4426-a68a-724b9cf566de",
   "metadata": {},
   "outputs": [
    {
     "data": {
      "text/html": [
       "<div>\n",
       "<style scoped>\n",
       "    .dataframe tbody tr th:only-of-type {\n",
       "        vertical-align: middle;\n",
       "    }\n",
       "\n",
       "    .dataframe tbody tr th {\n",
       "        vertical-align: top;\n",
       "    }\n",
       "\n",
       "    .dataframe thead th {\n",
       "        text-align: right;\n",
       "    }\n",
       "</style>\n",
       "<table border=\"1\" class=\"dataframe\">\n",
       "  <thead>\n",
       "    <tr style=\"text-align: right;\">\n",
       "      <th></th>\n",
       "      <th>transaction_id</th>\n",
       "      <th>transaction_date</th>\n",
       "      <th>transaction_time</th>\n",
       "      <th>store_id</th>\n",
       "      <th>store_location</th>\n",
       "      <th>product_id</th>\n",
       "      <th>transaction_qty</th>\n",
       "      <th>unit_price</th>\n",
       "      <th>Total_Bill</th>\n",
       "      <th>product_category</th>\n",
       "      <th>product_type</th>\n",
       "      <th>product_detail</th>\n",
       "      <th>Size</th>\n",
       "      <th>Month Name</th>\n",
       "      <th>Day Name</th>\n",
       "      <th>Hour</th>\n",
       "      <th>Month</th>\n",
       "      <th>Day of Week</th>\n",
       "    </tr>\n",
       "  </thead>\n",
       "  <tbody>\n",
       "    <tr>\n",
       "      <th>0</th>\n",
       "      <td>114301</td>\n",
       "      <td>01-06-2023</td>\n",
       "      <td>11:33:29</td>\n",
       "      <td>3</td>\n",
       "      <td>Astoria</td>\n",
       "      <td>45</td>\n",
       "      <td>1</td>\n",
       "      <td>3.0</td>\n",
       "      <td>3.0</td>\n",
       "      <td>Tea</td>\n",
       "      <td>Brewed herbal tea</td>\n",
       "      <td>Peppermint</td>\n",
       "      <td>Large</td>\n",
       "      <td>June</td>\n",
       "      <td>Thursday</td>\n",
       "      <td>11</td>\n",
       "      <td>6</td>\n",
       "      <td>3</td>\n",
       "    </tr>\n",
       "    <tr>\n",
       "      <th>1</th>\n",
       "      <td>115405</td>\n",
       "      <td>02-06-2023</td>\n",
       "      <td>11:18:24</td>\n",
       "      <td>3</td>\n",
       "      <td>Astoria</td>\n",
       "      <td>45</td>\n",
       "      <td>1</td>\n",
       "      <td>3.0</td>\n",
       "      <td>3.0</td>\n",
       "      <td>Tea</td>\n",
       "      <td>Brewed herbal tea</td>\n",
       "      <td>Peppermint</td>\n",
       "      <td>Large</td>\n",
       "      <td>June</td>\n",
       "      <td>Friday</td>\n",
       "      <td>11</td>\n",
       "      <td>6</td>\n",
       "      <td>4</td>\n",
       "    </tr>\n",
       "    <tr>\n",
       "      <th>2</th>\n",
       "      <td>115478</td>\n",
       "      <td>02-06-2023</td>\n",
       "      <td>12:02:45</td>\n",
       "      <td>3</td>\n",
       "      <td>Astoria</td>\n",
       "      <td>45</td>\n",
       "      <td>1</td>\n",
       "      <td>3.0</td>\n",
       "      <td>3.0</td>\n",
       "      <td>Tea</td>\n",
       "      <td>Brewed herbal tea</td>\n",
       "      <td>Peppermint</td>\n",
       "      <td>Large</td>\n",
       "      <td>June</td>\n",
       "      <td>Friday</td>\n",
       "      <td>12</td>\n",
       "      <td>6</td>\n",
       "      <td>4</td>\n",
       "    </tr>\n",
       "    <tr>\n",
       "      <th>3</th>\n",
       "      <td>116288</td>\n",
       "      <td>02-06-2023</td>\n",
       "      <td>19:39:47</td>\n",
       "      <td>3</td>\n",
       "      <td>Astoria</td>\n",
       "      <td>45</td>\n",
       "      <td>1</td>\n",
       "      <td>3.0</td>\n",
       "      <td>3.0</td>\n",
       "      <td>Tea</td>\n",
       "      <td>Brewed herbal tea</td>\n",
       "      <td>Peppermint</td>\n",
       "      <td>Large</td>\n",
       "      <td>June</td>\n",
       "      <td>Friday</td>\n",
       "      <td>19</td>\n",
       "      <td>6</td>\n",
       "      <td>4</td>\n",
       "    </tr>\n",
       "    <tr>\n",
       "      <th>4</th>\n",
       "      <td>116714</td>\n",
       "      <td>03-06-2023</td>\n",
       "      <td>12:24:57</td>\n",
       "      <td>3</td>\n",
       "      <td>Astoria</td>\n",
       "      <td>45</td>\n",
       "      <td>1</td>\n",
       "      <td>3.0</td>\n",
       "      <td>3.0</td>\n",
       "      <td>Tea</td>\n",
       "      <td>Brewed herbal tea</td>\n",
       "      <td>Peppermint</td>\n",
       "      <td>Large</td>\n",
       "      <td>June</td>\n",
       "      <td>Saturday</td>\n",
       "      <td>12</td>\n",
       "      <td>6</td>\n",
       "      <td>5</td>\n",
       "    </tr>\n",
       "    <tr>\n",
       "      <th>5</th>\n",
       "      <td>116739</td>\n",
       "      <td>03-06-2023</td>\n",
       "      <td>12:44:17</td>\n",
       "      <td>3</td>\n",
       "      <td>Astoria</td>\n",
       "      <td>45</td>\n",
       "      <td>1</td>\n",
       "      <td>3.0</td>\n",
       "      <td>3.0</td>\n",
       "      <td>Tea</td>\n",
       "      <td>Brewed herbal tea</td>\n",
       "      <td>Peppermint</td>\n",
       "      <td>Large</td>\n",
       "      <td>June</td>\n",
       "      <td>Saturday</td>\n",
       "      <td>12</td>\n",
       "      <td>6</td>\n",
       "      <td>5</td>\n",
       "    </tr>\n",
       "    <tr>\n",
       "      <th>6</th>\n",
       "      <td>116853</td>\n",
       "      <td>03-06-2023</td>\n",
       "      <td>13:58:14</td>\n",
       "      <td>3</td>\n",
       "      <td>Astoria</td>\n",
       "      <td>45</td>\n",
       "      <td>1</td>\n",
       "      <td>3.0</td>\n",
       "      <td>3.0</td>\n",
       "      <td>Tea</td>\n",
       "      <td>Brewed herbal tea</td>\n",
       "      <td>Peppermint</td>\n",
       "      <td>Large</td>\n",
       "      <td>June</td>\n",
       "      <td>Saturday</td>\n",
       "      <td>13</td>\n",
       "      <td>6</td>\n",
       "      <td>5</td>\n",
       "    </tr>\n",
       "    <tr>\n",
       "      <th>7</th>\n",
       "      <td>117389</td>\n",
       "      <td>03-06-2023</td>\n",
       "      <td>18:57:29</td>\n",
       "      <td>3</td>\n",
       "      <td>Astoria</td>\n",
       "      <td>45</td>\n",
       "      <td>1</td>\n",
       "      <td>3.0</td>\n",
       "      <td>3.0</td>\n",
       "      <td>Tea</td>\n",
       "      <td>Brewed herbal tea</td>\n",
       "      <td>Peppermint</td>\n",
       "      <td>Large</td>\n",
       "      <td>June</td>\n",
       "      <td>Saturday</td>\n",
       "      <td>18</td>\n",
       "      <td>6</td>\n",
       "      <td>5</td>\n",
       "    </tr>\n",
       "    <tr>\n",
       "      <th>8</th>\n",
       "      <td>118056</td>\n",
       "      <td>04-06-2023</td>\n",
       "      <td>14:31:43</td>\n",
       "      <td>3</td>\n",
       "      <td>Astoria</td>\n",
       "      <td>45</td>\n",
       "      <td>1</td>\n",
       "      <td>3.0</td>\n",
       "      <td>3.0</td>\n",
       "      <td>Tea</td>\n",
       "      <td>Brewed herbal tea</td>\n",
       "      <td>Peppermint</td>\n",
       "      <td>Large</td>\n",
       "      <td>June</td>\n",
       "      <td>Sunday</td>\n",
       "      <td>14</td>\n",
       "      <td>6</td>\n",
       "      <td>6</td>\n",
       "    </tr>\n",
       "    <tr>\n",
       "      <th>9</th>\n",
       "      <td>118281</td>\n",
       "      <td>04-06-2023</td>\n",
       "      <td>16:30:33</td>\n",
       "      <td>3</td>\n",
       "      <td>Astoria</td>\n",
       "      <td>45</td>\n",
       "      <td>1</td>\n",
       "      <td>3.0</td>\n",
       "      <td>3.0</td>\n",
       "      <td>Tea</td>\n",
       "      <td>Brewed herbal tea</td>\n",
       "      <td>Peppermint</td>\n",
       "      <td>Large</td>\n",
       "      <td>June</td>\n",
       "      <td>Sunday</td>\n",
       "      <td>16</td>\n",
       "      <td>6</td>\n",
       "      <td>6</td>\n",
       "    </tr>\n",
       "  </tbody>\n",
       "</table>\n",
       "</div>"
      ],
      "text/plain": [
       "   transaction_id transaction_date transaction_time  store_id store_location  \\\n",
       "0          114301       01-06-2023         11:33:29         3        Astoria   \n",
       "1          115405       02-06-2023         11:18:24         3        Astoria   \n",
       "2          115478       02-06-2023         12:02:45         3        Astoria   \n",
       "3          116288       02-06-2023         19:39:47         3        Astoria   \n",
       "4          116714       03-06-2023         12:24:57         3        Astoria   \n",
       "5          116739       03-06-2023         12:44:17         3        Astoria   \n",
       "6          116853       03-06-2023         13:58:14         3        Astoria   \n",
       "7          117389       03-06-2023         18:57:29         3        Astoria   \n",
       "8          118056       04-06-2023         14:31:43         3        Astoria   \n",
       "9          118281       04-06-2023         16:30:33         3        Astoria   \n",
       "\n",
       "   product_id  transaction_qty  unit_price  Total_Bill product_category  \\\n",
       "0          45                1         3.0         3.0              Tea   \n",
       "1          45                1         3.0         3.0              Tea   \n",
       "2          45                1         3.0         3.0              Tea   \n",
       "3          45                1         3.0         3.0              Tea   \n",
       "4          45                1         3.0         3.0              Tea   \n",
       "5          45                1         3.0         3.0              Tea   \n",
       "6          45                1         3.0         3.0              Tea   \n",
       "7          45                1         3.0         3.0              Tea   \n",
       "8          45                1         3.0         3.0              Tea   \n",
       "9          45                1         3.0         3.0              Tea   \n",
       "\n",
       "        product_type product_detail   Size Month Name  Day Name  Hour  Month  \\\n",
       "0  Brewed herbal tea     Peppermint  Large       June  Thursday    11      6   \n",
       "1  Brewed herbal tea     Peppermint  Large       June    Friday    11      6   \n",
       "2  Brewed herbal tea     Peppermint  Large       June    Friday    12      6   \n",
       "3  Brewed herbal tea     Peppermint  Large       June    Friday    19      6   \n",
       "4  Brewed herbal tea     Peppermint  Large       June  Saturday    12      6   \n",
       "5  Brewed herbal tea     Peppermint  Large       June  Saturday    12      6   \n",
       "6  Brewed herbal tea     Peppermint  Large       June  Saturday    13      6   \n",
       "7  Brewed herbal tea     Peppermint  Large       June  Saturday    18      6   \n",
       "8  Brewed herbal tea     Peppermint  Large       June    Sunday    14      6   \n",
       "9  Brewed herbal tea     Peppermint  Large       June    Sunday    16      6   \n",
       "\n",
       "   Day of Week  \n",
       "0            3  \n",
       "1            4  \n",
       "2            4  \n",
       "3            4  \n",
       "4            5  \n",
       "5            5  \n",
       "6            5  \n",
       "7            5  \n",
       "8            6  \n",
       "9            6  "
      ]
     },
     "execution_count": 9,
     "metadata": {},
     "output_type": "execute_result"
    }
   ],
   "source": [
    "data.head(10)"
   ]
  },
  {
   "cell_type": "code",
   "execution_count": 10,
   "id": "35d9e849-108c-4a5a-ba0f-489f03292fc0",
   "metadata": {},
   "outputs": [
    {
     "data": {
      "text/plain": [
       "Hour\n",
       "10    18545\n",
       "9     17764\n",
       "8     17654\n",
       "7     13428\n",
       "11     9766\n",
       "16     9093\n",
       "15     8979\n",
       "14     8933\n",
       "17     8745\n",
       "13     8714\n",
       "12     8708\n",
       "18     7498\n",
       "19     6092\n",
       "6      4594\n",
       "20      603\n",
       "Name: count, dtype: int64"
      ]
     },
     "execution_count": 10,
     "metadata": {},
     "output_type": "execute_result"
    }
   ],
   "source": [
    "data['Hour'].value_counts()"
   ]
  },
  {
   "cell_type": "code",
   "execution_count": 11,
   "id": "54fe6c46-ec0a-45d9-ad74-d0c58e938635",
   "metadata": {},
   "outputs": [
    {
     "data": {
      "text/plain": [
       "<Axes: xlabel='Hour', ylabel='count'>"
      ]
     },
     "execution_count": 11,
     "metadata": {},
     "output_type": "execute_result"
    },
    {
     "data": {
      "image/png": "[encoded data removed]",
      "text/plain": [
       "<Figure size 640x480 with 1 Axes>"
      ]
     },
     "metadata": {},
     "output_type": "display_data"
    }
   ],
   "source": [
    "sns.countplot(x='Hour',data=data)"
   ]
  },
  {
   "cell_type": "code",
   "execution_count": 12,
   "id": "4a5a7d83-7208-4d4c-946e-8cb6213f9668",
   "metadata": {},
   "outputs": [
    {
     "data": {
      "text/plain": [
       "Month Name\n",
       "June        35352\n",
       "May         33527\n",
       "April       25335\n",
       "March       21229\n",
       "January     17314\n",
       "February    16359\n",
       "Name: count, dtype: int64"
      ]
     },
     "execution_count": 12,
     "metadata": {},
     "output_type": "execute_result"
    }
   ],
   "source": [
    "data['Month Name'].value_counts()"
   ]
  },
  {
   "cell_type": "code",
   "execution_count": 13,
   "id": "eefdf976-91bc-494c-bf8a-acbbd37890b1",
   "metadata": {},
   "outputs": [
    {
     "data": {
      "text/plain": [
       "<Axes: xlabel='Month Name', ylabel='count'>"
      ]
     },
     "execution_count": 13,
     "metadata": {},
     "output_type": "execute_result"
    },
    {
     "data": {
      "image/png": "[encoded data removed]",
      "text/plain": [
       "<Figure size 640x480 with 1 Axes>"
      ]
     },
     "metadata": {},
     "output_type": "display_data"
    }
   ],
   "source": [
    "sns.countplot(x='Month Name',data=data)"
   ]
  },
  {
   "cell_type": "code",
   "execution_count": 14,
   "id": "8f3e6285-0c4d-4fc0-b6b1-794e41268a04",
   "metadata": {},
   "outputs": [
    {
     "data": {
      "text/plain": [
       "array(['Brewed herbal tea', 'Brewed Black tea', 'Brewed Green tea',\n",
       "       'Brewed Chai tea', 'Drip coffee', 'Organic brewed coffee',\n",
       "       'Barista Espresso', 'Gourmet brewed coffee', 'Scone', 'Pastry',\n",
       "       'Premium brewed coffee', 'Hot chocolate', 'Biscotti',\n",
       "       'Sugar free syrup', 'Regular syrup', 'Herbal tea', 'Black tea',\n",
       "       'Chai tea', 'Green tea', 'Drinking Chocolate', 'Organic Chocolate',\n",
       "       'Clothing', 'Housewares', 'Espresso Beans', 'Green beans',\n",
       "       'Organic Beans', 'Premium Beans', 'Gourmet Beans',\n",
       "       'House blend Beans'], dtype=object)"
      ]
     },
     "execution_count": 14,
     "metadata": {},
     "output_type": "execute_result"
    }
   ],
   "source": [
    "data['product_type'].unique()"
   ]
  },
  {
   "cell_type": "code",
   "execution_count": 15,
   "id": "fbe6b9f5-4d37-48da-b55e-21fe38dd449c",
   "metadata": {
    "scrolled": true
   },
   "outputs": [
    {
     "data": {
      "text/plain": [
       "product_type\n",
       "Brewed Chai tea          17183\n",
       "Gourmet brewed coffee    16912\n",
       "Barista Espresso         16403\n",
       "Hot chocolate            11468\n",
       "Brewed Black tea         11350\n",
       "Brewed herbal tea        11245\n",
       "Scone                    10173\n",
       "Organic brewed coffee     8489\n",
       "Drip coffee               8477\n",
       "Premium brewed coffee     8135\n",
       "Name: count, dtype: int64"
      ]
     },
     "execution_count": 15,
     "metadata": {},
     "output_type": "execute_result"
    }
   ],
   "source": [
    "data['product_type'].value_counts().head(10)"
   ]
  },
  {
   "cell_type": "code",
   "execution_count": 16,
   "id": "d2a9dbbf-6657-4f72-8e15-864655b6befd",
   "metadata": {},
   "outputs": [],
   "source": [
    "product_val=data['product_type'].value_counts().values"
   ]
  },
  {
   "cell_type": "code",
   "execution_count": 17,
   "id": "09d76c60-c03c-4c4e-9b76-f2deea3ff7c5",
   "metadata": {},
   "outputs": [],
   "source": [
    "product_val=product_val[0:10]"
   ]
  },
  {
   "cell_type": "code",
   "execution_count": 18,
   "id": "c42a2c06-9e4c-4bc7-ac33-aaec82a65e62",
   "metadata": {},
   "outputs": [
    {
     "data": {
      "text/plain": [
       "array([17183, 16912, 16403, 11468, 11350, 11245, 10173,  8489,  8477,\n",
       "        8135], dtype=int64)"
      ]
     },
     "execution_count": 18,
     "metadata": {},
     "output_type": "execute_result"
    }
   ],
   "source": [
    "product_val"
   ]
  },
  {
   "cell_type": "code",
   "execution_count": null,
   "id": "1a2c7262-f5ab-42e1-853a-83a02dd26ed6",
   "metadata": {},
   "outputs": [],
   "source": []
  },
  {
   "cell_type": "code",
   "execution_count": null,
   "id": "b02c6c36-9bf4-4e17-828f-c71021ab293b",
   "metadata": {},
   "outputs": [],
   "source": []
  },
  {
   "cell_type": "code",
   "execution_count": 19,
   "id": "c8174a89-311e-46a9-a26e-a27c963ae53e",
   "metadata": {},
   "outputs": [],
   "source": [
    "product_name=data['product_type'].value_counts()"
   ]
  },
  {
   "cell_type": "code",
   "execution_count": 20,
   "id": "167404e8-ed03-4df7-aa9c-1c4186564874",
   "metadata": {},
   "outputs": [
    {
     "data": {
      "text/plain": [
       "product_type\n",
       "Brewed Chai tea          17183\n",
       "Gourmet brewed coffee    16912\n",
       "Barista Espresso         16403\n",
       "Hot chocolate            11468\n",
       "Brewed Black tea         11350\n",
       "Brewed herbal tea        11245\n",
       "Scone                    10173\n",
       "Organic brewed coffee     8489\n",
       "Drip coffee               8477\n",
       "Premium brewed coffee     8135\n",
       "Pastry                    6912\n",
       "Biscotti                  5711\n",
       "Brewed Green tea          5671\n",
       "Regular syrup             4979\n",
       "Sugar free syrup          1811\n",
       "Housewares                 526\n",
       "Chai tea                   443\n",
       "Organic Beans              415\n",
       "Gourmet Beans              366\n",
       "Premium Beans              336\n",
       "Espresso Beans             319\n",
       "Herbal tea                 305\n",
       "Black tea                  303\n",
       "Drinking Chocolate         266\n",
       "Organic Chocolate          221\n",
       "Clothing                   221\n",
       "House blend Beans          183\n",
       "Green tea                  159\n",
       "Green beans                134\n",
       "Name: count, dtype: int64"
      ]
     },
     "execution_count": 20,
     "metadata": {},
     "output_type": "execute_result"
    }
   ],
   "source": [
    "product_name"
   ]
  },
  {
   "cell_type": "code",
   "execution_count": 21,
   "id": "21a8e42a-6463-4f3a-a62f-ca00e09c6513",
   "metadata": {},
   "outputs": [],
   "source": [
    "product_name=product_name[0:5]"
   ]
  },
  {
   "cell_type": "code",
   "execution_count": 22,
   "id": "6402afae-53a3-457c-a330-dff0a516ea63",
   "metadata": {},
   "outputs": [
    {
     "data": {
      "text/plain": [
       "product_type\n",
       "Brewed Chai tea          17183\n",
       "Gourmet brewed coffee    16912\n",
       "Barista Espresso         16403\n",
       "Hot chocolate            11468\n",
       "Brewed Black tea         11350\n",
       "Name: count, dtype: int64"
      ]
     },
     "execution_count": 22,
     "metadata": {},
     "output_type": "execute_result"
    }
   ],
   "source": [
    "product_name"
   ]
  },
  {
   "cell_type": "code",
   "execution_count": 23,
   "id": "5e6e23d1-47fa-4bf9-a36c-cbdc3d8c687e",
   "metadata": {},
   "outputs": [
    {
     "data": {
      "text/plain": [
       "([0, 1, 2, 3, 4],\n",
       " [Text(0, 0, 'Brewed Chai tea'),\n",
       "  Text(1, 0, 'Gourmet brewed coffee'),\n",
       "  Text(2, 0, 'Barista Espresso'),\n",
       "  Text(3, 0, 'Hot chocolate'),\n",
       "  Text(4, 0, 'Brewed Black tea')])"
      ]
     },
     "execution_count": 23,
     "metadata": {},
     "output_type": "execute_result"
    },
    {
     "data": {
      "image/png": "[encoded data removed]",
      "text/plain": [
       "<Figure size 640x480 with 1 Axes>"
      ]
     },
     "metadata": {},
     "output_type": "display_data"
    }
   ],
   "source": [
    "sns.countplot(x='product_type',data=data,order=product_name.index)\n",
    "plt.xticks(rotation=45)"
   ]
  },
  {
   "cell_type": "code",
   "execution_count": 24,
   "id": "073fc0ff-5650-4a4e-9ac8-b8e986b0b2af",
   "metadata": {},
   "outputs": [
    {
     "data": {
      "text/html": [
       "<div>\n",
       "<style scoped>\n",
       "    .dataframe tbody tr th:only-of-type {\n",
       "        vertical-align: middle;\n",
       "    }\n",
       "\n",
       "    .dataframe tbody tr th {\n",
       "        vertical-align: top;\n",
       "    }\n",
       "\n",
       "    .dataframe thead th {\n",
       "        text-align: right;\n",
       "    }\n",
       "</style>\n",
       "<table border=\"1\" class=\"dataframe\">\n",
       "  <thead>\n",
       "    <tr style=\"text-align: right;\">\n",
       "      <th></th>\n",
       "      <th>transaction_id</th>\n",
       "      <th>transaction_date</th>\n",
       "      <th>transaction_time</th>\n",
       "      <th>store_id</th>\n",
       "      <th>store_location</th>\n",
       "      <th>product_id</th>\n",
       "      <th>transaction_qty</th>\n",
       "      <th>unit_price</th>\n",
       "      <th>Total_Bill</th>\n",
       "      <th>product_category</th>\n",
       "      <th>product_type</th>\n",
       "      <th>product_detail</th>\n",
       "      <th>Size</th>\n",
       "      <th>Month Name</th>\n",
       "      <th>Day Name</th>\n",
       "      <th>Hour</th>\n",
       "      <th>Month</th>\n",
       "      <th>Day of Week</th>\n",
       "    </tr>\n",
       "  </thead>\n",
       "  <tbody>\n",
       "    <tr>\n",
       "      <th>0</th>\n",
       "      <td>114301</td>\n",
       "      <td>01-06-2023</td>\n",
       "      <td>11:33:29</td>\n",
       "      <td>3</td>\n",
       "      <td>Astoria</td>\n",
       "      <td>45</td>\n",
       "      <td>1</td>\n",
       "      <td>3.0</td>\n",
       "      <td>3.0</td>\n",
       "      <td>Tea</td>\n",
       "      <td>Brewed herbal tea</td>\n",
       "      <td>Peppermint</td>\n",
       "      <td>Large</td>\n",
       "      <td>June</td>\n",
       "      <td>Thursday</td>\n",
       "      <td>11</td>\n",
       "      <td>6</td>\n",
       "      <td>3</td>\n",
       "    </tr>\n",
       "    <tr>\n",
       "      <th>1</th>\n",
       "      <td>115405</td>\n",
       "      <td>02-06-2023</td>\n",
       "      <td>11:18:24</td>\n",
       "      <td>3</td>\n",
       "      <td>Astoria</td>\n",
       "      <td>45</td>\n",
       "      <td>1</td>\n",
       "      <td>3.0</td>\n",
       "      <td>3.0</td>\n",
       "      <td>Tea</td>\n",
       "      <td>Brewed herbal tea</td>\n",
       "      <td>Peppermint</td>\n",
       "      <td>Large</td>\n",
       "      <td>June</td>\n",
       "      <td>Friday</td>\n",
       "      <td>11</td>\n",
       "      <td>6</td>\n",
       "      <td>4</td>\n",
       "    </tr>\n",
       "    <tr>\n",
       "      <th>2</th>\n",
       "      <td>115478</td>\n",
       "      <td>02-06-2023</td>\n",
       "      <td>12:02:45</td>\n",
       "      <td>3</td>\n",
       "      <td>Astoria</td>\n",
       "      <td>45</td>\n",
       "      <td>1</td>\n",
       "      <td>3.0</td>\n",
       "      <td>3.0</td>\n",
       "      <td>Tea</td>\n",
       "      <td>Brewed herbal tea</td>\n",
       "      <td>Peppermint</td>\n",
       "      <td>Large</td>\n",
       "      <td>June</td>\n",
       "      <td>Friday</td>\n",
       "      <td>12</td>\n",
       "      <td>6</td>\n",
       "      <td>4</td>\n",
       "    </tr>\n",
       "    <tr>\n",
       "      <th>3</th>\n",
       "      <td>116288</td>\n",
       "      <td>02-06-2023</td>\n",
       "      <td>19:39:47</td>\n",
       "      <td>3</td>\n",
       "      <td>Astoria</td>\n",
       "      <td>45</td>\n",
       "      <td>1</td>\n",
       "      <td>3.0</td>\n",
       "      <td>3.0</td>\n",
       "      <td>Tea</td>\n",
       "      <td>Brewed herbal tea</td>\n",
       "      <td>Peppermint</td>\n",
       "      <td>Large</td>\n",
       "      <td>June</td>\n",
       "      <td>Friday</td>\n",
       "      <td>19</td>\n",
       "      <td>6</td>\n",
       "      <td>4</td>\n",
       "    </tr>\n",
       "    <tr>\n",
       "      <th>4</th>\n",
       "      <td>116714</td>\n",
       "      <td>03-06-2023</td>\n",
       "      <td>12:24:57</td>\n",
       "      <td>3</td>\n",
       "      <td>Astoria</td>\n",
       "      <td>45</td>\n",
       "      <td>1</td>\n",
       "      <td>3.0</td>\n",
       "      <td>3.0</td>\n",
       "      <td>Tea</td>\n",
       "      <td>Brewed herbal tea</td>\n",
       "      <td>Peppermint</td>\n",
       "      <td>Large</td>\n",
       "      <td>June</td>\n",
       "      <td>Saturday</td>\n",
       "      <td>12</td>\n",
       "      <td>6</td>\n",
       "      <td>5</td>\n",
       "    </tr>\n",
       "    <tr>\n",
       "      <th>5</th>\n",
       "      <td>116739</td>\n",
       "      <td>03-06-2023</td>\n",
       "      <td>12:44:17</td>\n",
       "      <td>3</td>\n",
       "      <td>Astoria</td>\n",
       "      <td>45</td>\n",
       "      <td>1</td>\n",
       "      <td>3.0</td>\n",
       "      <td>3.0</td>\n",
       "      <td>Tea</td>\n",
       "      <td>Brewed herbal tea</td>\n",
       "      <td>Peppermint</td>\n",
       "      <td>Large</td>\n",
       "      <td>June</td>\n",
       "      <td>Saturday</td>\n",
       "      <td>12</td>\n",
       "      <td>6</td>\n",
       "      <td>5</td>\n",
       "    </tr>\n",
       "    <tr>\n",
       "      <th>6</th>\n",
       "      <td>116853</td>\n",
       "      <td>03-06-2023</td>\n",
       "      <td>13:58:14</td>\n",
       "      <td>3</td>\n",
       "      <td>Astoria</td>\n",
       "      <td>45</td>\n",
       "      <td>1</td>\n",
       "      <td>3.0</td>\n",
       "      <td>3.0</td>\n",
       "      <td>Tea</td>\n",
       "      <td>Brewed herbal tea</td>\n",
       "      <td>Peppermint</td>\n",
       "      <td>Large</td>\n",
       "      <td>June</td>\n",
       "      <td>Saturday</td>\n",
       "      <td>13</td>\n",
       "      <td>6</td>\n",
       "      <td>5</td>\n",
       "    </tr>\n",
       "    <tr>\n",
       "      <th>7</th>\n",
       "      <td>117389</td>\n",
       "      <td>03-06-2023</td>\n",
       "      <td>18:57:29</td>\n",
       "      <td>3</td>\n",
       "      <td>Astoria</td>\n",
       "      <td>45</td>\n",
       "      <td>1</td>\n",
       "      <td>3.0</td>\n",
       "      <td>3.0</td>\n",
       "      <td>Tea</td>\n",
       "      <td>Brewed herbal tea</td>\n",
       "      <td>Peppermint</td>\n",
       "      <td>Large</td>\n",
       "      <td>June</td>\n",
       "      <td>Saturday</td>\n",
       "      <td>18</td>\n",
       "      <td>6</td>\n",
       "      <td>5</td>\n",
       "    </tr>\n",
       "    <tr>\n",
       "      <th>8</th>\n",
       "      <td>118056</td>\n",
       "      <td>04-06-2023</td>\n",
       "      <td>14:31:43</td>\n",
       "      <td>3</td>\n",
       "      <td>Astoria</td>\n",
       "      <td>45</td>\n",
       "      <td>1</td>\n",
       "      <td>3.0</td>\n",
       "      <td>3.0</td>\n",
       "      <td>Tea</td>\n",
       "      <td>Brewed herbal tea</td>\n",
       "      <td>Peppermint</td>\n",
       "      <td>Large</td>\n",
       "      <td>June</td>\n",
       "      <td>Sunday</td>\n",
       "      <td>14</td>\n",
       "      <td>6</td>\n",
       "      <td>6</td>\n",
       "    </tr>\n",
       "    <tr>\n",
       "      <th>9</th>\n",
       "      <td>118281</td>\n",
       "      <td>04-06-2023</td>\n",
       "      <td>16:30:33</td>\n",
       "      <td>3</td>\n",
       "      <td>Astoria</td>\n",
       "      <td>45</td>\n",
       "      <td>1</td>\n",
       "      <td>3.0</td>\n",
       "      <td>3.0</td>\n",
       "      <td>Tea</td>\n",
       "      <td>Brewed herbal tea</td>\n",
       "      <td>Peppermint</td>\n",
       "      <td>Large</td>\n",
       "      <td>June</td>\n",
       "      <td>Sunday</td>\n",
       "      <td>16</td>\n",
       "      <td>6</td>\n",
       "      <td>6</td>\n",
       "    </tr>\n",
       "  </tbody>\n",
       "</table>\n",
       "</div>"
      ],
      "text/plain": [
       "   transaction_id transaction_date transaction_time  store_id store_location  \\\n",
       "0          114301       01-06-2023         11:33:29         3        Astoria   \n",
       "1          115405       02-06-2023         11:18:24         3        Astoria   \n",
       "2          115478       02-06-2023         12:02:45         3        Astoria   \n",
       "3          116288       02-06-2023         19:39:47         3        Astoria   \n",
       "4          116714       03-06-2023         12:24:57         3        Astoria   \n",
       "5          116739       03-06-2023         12:44:17         3        Astoria   \n",
       "6          116853       03-06-2023         13:58:14         3        Astoria   \n",
       "7          117389       03-06-2023         18:57:29         3        Astoria   \n",
       "8          118056       04-06-2023         14:31:43         3        Astoria   \n",
       "9          118281       04-06-2023         16:30:33         3        Astoria   \n",
       "\n",
       "   product_id  transaction_qty  unit_price  Total_Bill product_category  \\\n",
       "0          45                1         3.0         3.0              Tea   \n",
       "1          45                1         3.0         3.0              Tea   \n",
       "2          45                1         3.0         3.0              Tea   \n",
       "3          45                1         3.0         3.0              Tea   \n",
       "4          45                1         3.0         3.0              Tea   \n",
       "5          45                1         3.0         3.0              Tea   \n",
       "6          45                1         3.0         3.0              Tea   \n",
       "7          45                1         3.0         3.0              Tea   \n",
       "8          45                1         3.0         3.0              Tea   \n",
       "9          45                1         3.0         3.0              Tea   \n",
       "\n",
       "        product_type product_detail   Size Month Name  Day Name  Hour  Month  \\\n",
       "0  Brewed herbal tea     Peppermint  Large       June  Thursday    11      6   \n",
       "1  Brewed herbal tea     Peppermint  Large       June    Friday    11      6   \n",
       "2  Brewed herbal tea     Peppermint  Large       June    Friday    12      6   \n",
       "3  Brewed herbal tea     Peppermint  Large       June    Friday    19      6   \n",
       "4  Brewed herbal tea     Peppermint  Large       June  Saturday    12      6   \n",
       "5  Brewed herbal tea     Peppermint  Large       June  Saturday    12      6   \n",
       "6  Brewed herbal tea     Peppermint  Large       June  Saturday    13      6   \n",
       "7  Brewed herbal tea     Peppermint  Large       June  Saturday    18      6   \n",
       "8  Brewed herbal tea     Peppermint  Large       June    Sunday    14      6   \n",
       "9  Brewed herbal tea     Peppermint  Large       June    Sunday    16      6   \n",
       "\n",
       "   Day of Week  \n",
       "0            3  \n",
       "1            4  \n",
       "2            4  \n",
       "3            4  \n",
       "4            5  \n",
       "5            5  \n",
       "6            5  \n",
       "7            5  \n",
       "8            6  \n",
       "9            6  "
      ]
     },
     "execution_count": 24,
     "metadata": {},
     "output_type": "execute_result"
    }
   ],
   "source": [
    "data.head(10)"
   ]
  },
  {
   "cell_type": "code",
   "execution_count": 33,
   "id": "8efca31e-e87b-4fe4-b905-5c3c6ea222d7",
   "metadata": {
    "scrolled": true
   },
   "outputs": [
    {
     "data": {
      "text/plain": [
       "Total_Bill\n",
       "3.00     17680\n",
       "6.00     15254\n",
       "2.50     13116\n",
       "3.75     12661\n",
       "5.00     12420\n",
       "         ...  \n",
       "36.00        5\n",
       "72.00        3\n",
       "24.00        3\n",
       "56.00        2\n",
       "17.00        2\n",
       "Name: count, Length: 75, dtype: int64"
      ]
     },
     "execution_count": 33,
     "metadata": {},
     "output_type": "execute_result"
    }
   ],
   "source": [
    "data['Total_Bill'].value_counts()"
   ]
  },
  {
   "cell_type": "code",
   "execution_count": 34,
   "id": "709382e9-ebce-4a98-8d6b-8146d2098b40",
   "metadata": {},
   "outputs": [
    {
     "data": {
      "text/plain": [
       "(array([1.48921e+05, 1.85000e+02, 0.00000e+00, 0.00000e+00, 0.00000e+00,\n",
       "        0.00000e+00, 0.00000e+00, 0.00000e+00, 0.00000e+00, 1.00000e+01]),\n",
       " array([  0.8 ,  36.72,  72.64, 108.56, 144.48, 180.4 , 216.32, 252.24,\n",
       "        288.16, 324.08, 360.  ]),\n",
       " <BarContainer object of 10 artists>)"
      ]
     },
     "execution_count": 34,
     "metadata": {},
     "output_type": "execute_result"
    },
    {
     "data": {
      "image/png": "[encoded data removed]",
      "text/plain": [
       "<Figure size 640x480 with 1 Axes>"
      ]
     },
     "metadata": {},
     "output_type": "display_data"
    }
   ],
   "source": [
    "plt.hist(x='Total_Bill',data=data)"
   ]
  },
  {
   "cell_type": "code",
   "execution_count": null,
   "id": "b02fe4b4-6ceb-49d1-a58e-de7358c730ce",
   "metadata": {},
   "outputs": [],
   "source": []
  }
 ],
 "metadata": {
  "kernelspec": {
   "display_name": "Python 3 (ipykernel)",
   "language": "python",
   "name": "python3"
  },
  "language_info": {
   "codemirror_mode": {
    "name": "ipython",
    "version": 3
   },
   "file_extension": ".py",
   "mimetype": "text/x-python",
   "name": "python",
   "nbconvert_exporter": "python",
   "pygments_lexer": "ipython3",
   "version": "3.12.0"
  }
 },
 "nbformat": 4,
 "nbformat_minor": 5
}
