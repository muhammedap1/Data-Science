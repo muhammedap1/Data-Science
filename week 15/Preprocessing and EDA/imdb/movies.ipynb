{
 "cells": [
  {
   "cell_type": "code",
   "execution_count": 1,
   "id": "68d8c1cb-ff8b-4ef3-b5ce-0cd352ffb7c3",
   "metadata": {},
   "outputs": [],
   "source": [
    "import pandas as pd\n",
    "import numpy as np\n",
    "import matplotlib.pylab as plt\n",
    "import seaborn as sns\n"
   ]
  },
  {
   "cell_type": "code",
   "execution_count": 2,
   "id": "5c68db09-0f4f-43c7-9592-1e167b4db644",
   "metadata": {},
   "outputs": [],
   "source": [
    "data=pd.read_csv('imdb movies.csv')"
   ]
  },
  {
   "cell_type": "code",
   "execution_count": 25,
   "id": "edf6b528-c80d-411e-8f3e-c08e58658444",
   "metadata": {},
   "outputs": [
    {
     "data": {
      "text/html": [
       "<div>\n",
       "<style scoped>\n",
       "    .dataframe tbody tr th:only-of-type {\n",
       "        vertical-align: middle;\n",
       "    }\n",
       "\n",
       "    .dataframe tbody tr th {\n",
       "        vertical-align: top;\n",
       "    }\n",
       "\n",
       "    .dataframe thead th {\n",
       "        text-align: right;\n",
       "    }\n",
       "</style>\n",
       "<table border=\"1\" class=\"dataframe\">\n",
       "  <thead>\n",
       "    <tr style=\"text-align: right;\">\n",
       "      <th></th>\n",
       "      <th>Movie Name</th>\n",
       "      <th>Release Year</th>\n",
       "      <th>Duration</th>\n",
       "      <th>IMDB Rating</th>\n",
       "      <th>Metascore</th>\n",
       "      <th>Votes</th>\n",
       "      <th>Genre</th>\n",
       "      <th>Director</th>\n",
       "      <th>Cast</th>\n",
       "      <th>Gross</th>\n",
       "    </tr>\n",
       "  </thead>\n",
       "  <tbody>\n",
       "    <tr>\n",
       "      <th>0</th>\n",
       "      <td>The Godfather</td>\n",
       "      <td>1972</td>\n",
       "      <td>175</td>\n",
       "      <td>9.2</td>\n",
       "      <td>100.0</td>\n",
       "      <td>2002655</td>\n",
       "      <td>Crime, Drama</td>\n",
       "      <td>Francis Ford Coppola</td>\n",
       "      <td>Marlon Brando</td>\n",
       "      <td>$134.97M</td>\n",
       "    </tr>\n",
       "    <tr>\n",
       "      <th>1</th>\n",
       "      <td>The Godfather Part II</td>\n",
       "      <td>1974</td>\n",
       "      <td>202</td>\n",
       "      <td>9.0</td>\n",
       "      <td>90.0</td>\n",
       "      <td>1358608</td>\n",
       "      <td>Crime, Drama</td>\n",
       "      <td>Francis Ford Coppola</td>\n",
       "      <td>Al Pacino</td>\n",
       "      <td>$57.30M</td>\n",
       "    </tr>\n",
       "    <tr>\n",
       "      <th>2</th>\n",
       "      <td>Ordinary People</td>\n",
       "      <td>1980</td>\n",
       "      <td>124</td>\n",
       "      <td>7.7</td>\n",
       "      <td>86.0</td>\n",
       "      <td>56476</td>\n",
       "      <td>Drama</td>\n",
       "      <td>Robert Redford</td>\n",
       "      <td>Donald Sutherland</td>\n",
       "      <td>$54.80M</td>\n",
       "    </tr>\n",
       "    <tr>\n",
       "      <th>3</th>\n",
       "      <td>Lawrence of Arabia</td>\n",
       "      <td>1962</td>\n",
       "      <td>218</td>\n",
       "      <td>8.3</td>\n",
       "      <td>100.0</td>\n",
       "      <td>313044</td>\n",
       "      <td>Adventure, Biography, Drama</td>\n",
       "      <td>David Lean</td>\n",
       "      <td>Peter O'Toole</td>\n",
       "      <td>$44.82M</td>\n",
       "    </tr>\n",
       "    <tr>\n",
       "      <th>4</th>\n",
       "      <td>Straw Dogs</td>\n",
       "      <td>1971</td>\n",
       "      <td>113</td>\n",
       "      <td>7.4</td>\n",
       "      <td>73.0</td>\n",
       "      <td>64331</td>\n",
       "      <td>Crime, Drama, Thriller</td>\n",
       "      <td>Sam Peckinpah</td>\n",
       "      <td>Dustin Hoffman</td>\n",
       "      <td>NaN</td>\n",
       "    </tr>\n",
       "    <tr>\n",
       "      <th>5</th>\n",
       "      <td>Close Encounters of the Third Kind</td>\n",
       "      <td>1977</td>\n",
       "      <td>138</td>\n",
       "      <td>7.6</td>\n",
       "      <td>90.0</td>\n",
       "      <td>216050</td>\n",
       "      <td>Drama, Sci-Fi</td>\n",
       "      <td>Steven Spielberg</td>\n",
       "      <td>Richard Dreyfuss</td>\n",
       "      <td>$132.09M</td>\n",
       "    </tr>\n",
       "    <tr>\n",
       "      <th>6</th>\n",
       "      <td>Once Upon a Time in the West</td>\n",
       "      <td>1968</td>\n",
       "      <td>166</td>\n",
       "      <td>8.5</td>\n",
       "      <td>82.0</td>\n",
       "      <td>348110</td>\n",
       "      <td>Western</td>\n",
       "      <td>Sergio Leone</td>\n",
       "      <td>Henry Fonda</td>\n",
       "      <td>$5.32M</td>\n",
       "    </tr>\n",
       "    <tr>\n",
       "      <th>7</th>\n",
       "      <td>The Dirty Dozen</td>\n",
       "      <td>1967</td>\n",
       "      <td>150</td>\n",
       "      <td>7.7</td>\n",
       "      <td>73.0</td>\n",
       "      <td>78858</td>\n",
       "      <td>Action, Adventure, War</td>\n",
       "      <td>Robert Aldrich</td>\n",
       "      <td>Lee Marvin</td>\n",
       "      <td>$45.30M</td>\n",
       "    </tr>\n",
       "    <tr>\n",
       "      <th>8</th>\n",
       "      <td>Rosemary's Baby</td>\n",
       "      <td>1968</td>\n",
       "      <td>137</td>\n",
       "      <td>8.0</td>\n",
       "      <td>96.0</td>\n",
       "      <td>234034</td>\n",
       "      <td>Drama, Horror</td>\n",
       "      <td>Roman Polanski</td>\n",
       "      <td>Mia Farrow</td>\n",
       "      <td>NaN</td>\n",
       "    </tr>\n",
       "    <tr>\n",
       "      <th>9</th>\n",
       "      <td>Cabaret</td>\n",
       "      <td>1972</td>\n",
       "      <td>124</td>\n",
       "      <td>7.8</td>\n",
       "      <td>80.0</td>\n",
       "      <td>59119</td>\n",
       "      <td>Drama, Music, Musical</td>\n",
       "      <td>Bob Fosse</td>\n",
       "      <td>Liza Minnelli</td>\n",
       "      <td>$42.77M</td>\n",
       "    </tr>\n",
       "  </tbody>\n",
       "</table>\n",
       "</div>"
      ],
      "text/plain": [
       "                           Movie Name Release Year  Duration  IMDB Rating  \\\n",
       "0                       The Godfather         1972       175          9.2   \n",
       "1               The Godfather Part II         1974       202          9.0   \n",
       "2                     Ordinary People         1980       124          7.7   \n",
       "3                  Lawrence of Arabia         1962       218          8.3   \n",
       "4                          Straw Dogs         1971       113          7.4   \n",
       "5  Close Encounters of the Third Kind         1977       138          7.6   \n",
       "6        Once Upon a Time in the West         1968       166          8.5   \n",
       "7                     The Dirty Dozen         1967       150          7.7   \n",
       "8                     Rosemary's Baby         1968       137          8.0   \n",
       "9                             Cabaret         1972       124          7.8   \n",
       "\n",
       "   Metascore    Votes                        Genre              Director  \\\n",
       "0      100.0  2002655                 Crime, Drama  Francis Ford Coppola   \n",
       "1       90.0  1358608                 Crime, Drama  Francis Ford Coppola   \n",
       "2       86.0    56476                        Drama        Robert Redford   \n",
       "3      100.0   313044  Adventure, Biography, Drama            David Lean   \n",
       "4       73.0    64331       Crime, Drama, Thriller         Sam Peckinpah   \n",
       "5       90.0   216050                Drama, Sci-Fi      Steven Spielberg   \n",
       "6       82.0   348110                      Western          Sergio Leone   \n",
       "7       73.0    78858       Action, Adventure, War        Robert Aldrich   \n",
       "8       96.0   234034                Drama, Horror        Roman Polanski   \n",
       "9       80.0    59119        Drama, Music, Musical             Bob Fosse   \n",
       "\n",
       "                Cast     Gross  \n",
       "0      Marlon Brando  $134.97M  \n",
       "1          Al Pacino   $57.30M  \n",
       "2  Donald Sutherland   $54.80M  \n",
       "3      Peter O'Toole   $44.82M  \n",
       "4     Dustin Hoffman       NaN  \n",
       "5   Richard Dreyfuss  $132.09M  \n",
       "6        Henry Fonda    $5.32M  \n",
       "7         Lee Marvin   $45.30M  \n",
       "8         Mia Farrow       NaN  \n",
       "9      Liza Minnelli   $42.77M  "
      ]
     },
     "execution_count": 25,
     "metadata": {},
     "output_type": "execute_result"
    }
   ],
   "source": [
    "data.head(10)"
   ]
  },
  {
   "cell_type": "code",
   "execution_count": 21,
   "id": "f936527e-9f79-4256-9a80-5a65a71e65ac",
   "metadata": {},
   "outputs": [],
   "source": [
    "data['Votes']=data['Votes'].str.replace(',','').astype(int)"
   ]
  },
  {
   "cell_type": "code",
   "execution_count": 28,
   "id": "2627b63a-c697-460d-b7d5-35d74cb55c6e",
   "metadata": {},
   "outputs": [],
   "source": [
    "index=data['IMDB Rating'].idxmax()"
   ]
  },
  {
   "cell_type": "code",
   "execution_count": 29,
   "id": "9f7005aa-1957-409d-a24f-9f60e54ec650",
   "metadata": {},
   "outputs": [
    {
     "data": {
      "text/plain": [
       "Movie Name      The Shawshank Redemption\n",
       "Release Year                        1994\n",
       "Duration                             142\n",
       "IMDB Rating                          9.3\n",
       "Metascore                           82.0\n",
       "Votes                            2875249\n",
       "Genre                              Drama\n",
       "Director                  Frank Darabont\n",
       "Cast                         Tim Robbins\n",
       "Gross                            $28.34M\n",
       "Name: 506, dtype: object"
      ]
     },
     "execution_count": 29,
     "metadata": {},
     "output_type": "execute_result"
    }
   ],
   "source": [
    "data.loc[index,:]"
   ]
  },
  {
   "cell_type": "code",
   "execution_count": 26,
   "id": "a113cc32-d36c-490e-ad86-b28958c47fe1",
   "metadata": {},
   "outputs": [],
   "source": [
    "index=data['Duration'].idxmax()"
   ]
  },
  {
   "cell_type": "code",
   "execution_count": 27,
   "id": "2cfdacf2-6bc2-4106-af49-874956b7ab1e",
   "metadata": {},
   "outputs": [
    {
     "data": {
      "text/plain": [
       "Movie Name               Gettysburg\n",
       "Release Year                   1993\n",
       "Duration                        271\n",
       "IMDB Rating                     7.6\n",
       "Metascore                       NaN\n",
       "Votes                         31204\n",
       "Genre           Drama, History, War\n",
       "Director                Ron Maxwell\n",
       "Cast                   Tom Berenger\n",
       "Gross                       $10.77M\n",
       "Name: 552, dtype: object"
      ]
     },
     "execution_count": 27,
     "metadata": {},
     "output_type": "execute_result"
    }
   ],
   "source": [
    "data.loc[index,:]"
   ]
  },
  {
   "cell_type": "code",
   "execution_count": 30,
   "id": "1751fd8d-89f0-41bd-8390-a1aa0080cfb4",
   "metadata": {},
   "outputs": [
    {
     "data": {
      "text/plain": [
       "Director\n",
       "Steven Spielberg     22\n",
       "Ridley Scott         14\n",
       "Clint Eastwood       13\n",
       "Tim Burton           13\n",
       "Robert Zemeckis      12\n",
       "                     ..\n",
       "Tim McCanlies         1\n",
       "Clark Johnson         1\n",
       "Tod Browning          1\n",
       "Merian C. Cooper      1\n",
       "John Erick Dowdle     1\n",
       "Name: count, Length: 918, dtype: int64"
      ]
     },
     "execution_count": 30,
     "metadata": {},
     "output_type": "execute_result"
    }
   ],
   "source": [
    "data['Director'].value_counts()"
   ]
  },
  {
   "cell_type": "code",
   "execution_count": 33,
   "id": "c2c826a2-c71d-4b90-9af8-15eb63a1569d",
   "metadata": {},
   "outputs": [
    {
     "data": {
      "text/plain": [
       "<Axes: xlabel='Release Year', ylabel='Count'>"
      ]
     },
     "execution_count": 33,
     "metadata": {},
     "output_type": "execute_result"
    },
    {
     "data": {
      "image/png": "[encoded data removed]",
      "text/plain": [
       "<Figure size 640x480 with 1 Axes>"
      ]
     },
     "metadata": {},
     "output_type": "display_data"
    }
   ],
   "source": [
    " sns.histplot(x='Release Year',data=data,bins=20)"
   ]
  },
  {
   "cell_type": "code",
   "execution_count": null,
   "id": "24d59b5c-5f20-4279-88f8-a5881820ccd1",
   "metadata": {},
   "outputs": [],
   "source": []
  }
 ],
 "metadata": {
  "kernelspec": {
   "display_name": "Python 3 (ipykernel)",
   "language": "python",
   "name": "python3"
  },
  "language_info": {
   "codemirror_mode": {
    "name": "ipython",
    "version": 3
   },
   "file_extension": ".py",
   "mimetype": "text/x-python",
   "name": "python",
   "nbconvert_exporter": "python",
   "pygments_lexer": "ipython3",
   "version": "3.12.0"
  }
 },
 "nbformat": 4,
 "nbformat_minor": 5
}
