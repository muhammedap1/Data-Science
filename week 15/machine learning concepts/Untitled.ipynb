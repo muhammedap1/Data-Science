{
 "cells": [
  {
   "cell_type": "code",
   "execution_count": 10,
   "id": "52a77eb3",
   "metadata": {},
   "outputs": [],
   "source": [
    "import numpy as np"
   ]
  },
  {
   "cell_type": "code",
   "execution_count": 6,
   "id": "5a5878e9",
   "metadata": {},
   "outputs": [
    {
     "name": "stdout",
     "output_type": "stream",
     "text": [
      "20\n",
      "1712500144.7503495 1712500144.7503495\n"
     ]
    }
   ],
   "source": [
    "import time \n",
    "start_time=time.time()\n",
    "if 20>10:\n",
    "    print(20) \n",
    "else:\n",
    "    print('not True')\n",
    "end_time=time.time()\n",
    "print(end_time,start_time)\n",
    "\n"
   ]
  },
  {
   "cell_type": "code",
   "execution_count": 23,
   "id": "6ea18c3e",
   "metadata": {},
   "outputs": [
    {
     "name": "stdout",
     "output_type": "stream",
     "text": [
      "[10, 20, 30, 540, 60, 70, 50, 60, 340, 40, 760, 450, 2340, 3240, 760, 3450, 2340, 40, 4560, 3450, 2340, 2340, 3460, 3450, 2340, 230, 42340, 2340, 2340, 240]\n",
      "CPU times: total: 0 ns\n",
      "Wall time: 999 µs\n"
     ]
    }
   ],
   "source": [
    "%%time\n",
    "def multiply(x,y):\n",
    "    result=[]\n",
    "    for num in x:\n",
    "        result.append(num*y)\n",
    "    return result\n",
    "x=[1,2,3,54,6,7,5,6,34,4,76,45,234,324,76,345,234,4,456,345,234,234,346,345,234,23,4234,234,234,24]\n",
    "y=10\n",
    "answer=multiply(x,y)\n",
    "print(answer)\n"
   ]
  },
  {
   "cell_type": "code",
   "execution_count": 24,
   "id": "f786f8f8",
   "metadata": {},
   "outputs": [
    {
     "name": "stdout",
     "output_type": "stream",
     "text": [
      "[   10    20    30   540    60    70    50    60   340    40   760   450\n",
      "  2340  3240   760  3450  2340    40  4560  3450  2340  2340  3460  3450\n",
      "  2340   230 42340  2340  2340   240]\n",
      "CPU times: total: 0 ns\n",
      "Wall time: 0 ns\n"
     ]
    }
   ],
   "source": [
    "%%time\n",
    "def multiply(x,y):\n",
    "    return x*y\n",
    "x=np.array([1,2,3,54,6,7,5,6,34,4,76,45,234,324,76,345,234,4,456,345,234,234,346,345,234,23,4234,234,234,24])\n",
    "y=10\n",
    "answer=multiply(x,y)\n",
    "print(answer)"
   ]
  },
  {
   "cell_type": "code",
   "execution_count": null,
   "id": "59c65d47",
   "metadata": {},
   "outputs": [],
   "source": []
  },
  {
   "cell_type": "code",
   "execution_count": null,
   "id": "6963357f",
   "metadata": {},
   "outputs": [],
   "source": []
  }
 ],
 "metadata": {
  "kernelspec": {
   "display_name": "Python 3 (ipykernel)",
   "language": "python",
   "name": "python3"
  },
  "language_info": {
   "codemirror_mode": {
    "name": "ipython",
    "version": 3
   },
   "file_extension": ".py",
   "mimetype": "text/x-python",
   "name": "python",
   "nbconvert_exporter": "python",
   "pygments_lexer": "ipython3",
   "version": "3.11.5"
  }
 },
 "nbformat": 4,
 "nbformat_minor": 5
}
