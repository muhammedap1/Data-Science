{
 "cells": [
  {
   "cell_type": "code",
   "execution_count": 5,
   "id": "7fe8362b",
   "metadata": {},
   "outputs": [
    {
     "name": "stdout",
     "output_type": "stream",
     "text": [
      "1.0\n",
      "Model accuracy: 1.0\n"
     ]
    }
   ],
   "source": [
    "from sklearn.datasets import load_iris\n",
    "from sklearn.feature_selection import SelectKBest, f_classif\n",
    "from sklearn.model_selection import train_test_split\n",
    "from sklearn.linear_model import LogisticRegression\n",
    "\n",
    "# Load the Iris dataset\n",
    "iris = load_iris()\n",
    "X = iris.data\n",
    "y = iris.target\n",
    "\n",
    "# Split the dataset into training and testing sets\n",
    "X_train, X_test, y_train, y_test = train_test_split(X, y, test_size=0.2, random_state=42)\n",
    "\n",
    "# Initialize SelectKBest class with f_classif scoring function and k=2\n",
    "selector = SelectKBest(score_func=f_classif, k=2)\n",
    "\n",
    "# Fit the selector to the training data\n",
    "selector.fit(X_train, y_train)\n",
    "\n",
    "# Transform the training and testing sets\n",
    "X_train_selected = selector.transform(X_train)\n",
    "X_test_selected = selector.transform(X_test)\n",
    "\n",
    "# Train a Logistic Regression model using the selected features\n",
    "model = LogisticRegression(max_iter=1000) # Increase max_iter to ensure convergence\n",
    "model.fit(X_train_selected, y_train)\n",
    "y_pred=model.predict(X_test_selected)\n",
    "from sklearn.metrics import accuracy_score\n",
    "print(accuracy_score(y_pred,y_test))\n",
    "# Evaluate the model\n",
    "score = model.score(X_test_selected, y_test)\n",
    "print(f\"Model accuracy: {score}\")\n"
   ]
  },
  {
   "cell_type": "code",
   "execution_count": null,
   "id": "a6d43d5d",
   "metadata": {},
   "outputs": [],
   "source": [
    "selected=[f for i, f in enumerate(x)]"
   ]
  }
 ],
 "metadata": {
  "kernelspec": {
   "display_name": "Python 3 (ipykernel)",
   "language": "python",
   "name": "python3"
  },
  "language_info": {
   "codemirror_mode": {
    "name": "ipython",
    "version": 3
   },
   "file_extension": ".py",
   "mimetype": "text/x-python",
   "name": "python",
   "nbconvert_exporter": "python",
   "pygments_lexer": "ipython3",
   "version": "3.11.5"
  }
 },
 "nbformat": 4,
 "nbformat_minor": 5
}
